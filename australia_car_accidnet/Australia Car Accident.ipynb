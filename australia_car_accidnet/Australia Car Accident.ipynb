{
 "cells": [
  {
   "cell_type": "code",
   "execution_count": 1,
   "id": "24fd8aae",
   "metadata": {},
   "outputs": [],
   "source": [
    "from matplotlib import pyplot as plt\n",
    "import pandas as pd\n",
    "import numpy as np\n",
    "import seaborn as sns"
   ]
  },
  {
   "cell_type": "code",
   "execution_count": 3,
   "id": "db98b6e7",
   "metadata": {
    "scrolled": true
   },
   "outputs": [],
   "source": [
    "dataset = pd.read_csv('/home/haika/Documents/shahram/ds/projects/australia_car_accidnet/Crash_Data.csv')"
   ]
  },
  {
   "cell_type": "code",
   "execution_count": 4,
   "id": "001a71c9",
   "metadata": {},
   "outputs": [
    {
     "data": {
      "text/html": [
       "<div>\n",
       "<style scoped>\n",
       "    .dataframe tbody tr th:only-of-type {\n",
       "        vertical-align: middle;\n",
       "    }\n",
       "\n",
       "    .dataframe tbody tr th {\n",
       "        vertical-align: top;\n",
       "    }\n",
       "\n",
       "    .dataframe thead th {\n",
       "        text-align: right;\n",
       "    }\n",
       "</style>\n",
       "<table border=\"1\" class=\"dataframe\">\n",
       "  <thead>\n",
       "    <tr style=\"text-align: right;\">\n",
       "      <th></th>\n",
       "      <th>Crash ID</th>\n",
       "      <th>State</th>\n",
       "      <th>Month</th>\n",
       "      <th>Year</th>\n",
       "      <th>Dayweek</th>\n",
       "      <th>Time</th>\n",
       "      <th>Crash Type</th>\n",
       "      <th>Bus Involvement</th>\n",
       "      <th>Heavy Rigid Truck Involvement</th>\n",
       "      <th>Articulated Truck Involvement</th>\n",
       "      <th>...</th>\n",
       "      <th>Age</th>\n",
       "      <th>National Remoteness Areas</th>\n",
       "      <th>SA4 Name 2016</th>\n",
       "      <th>National LGA Name 2017</th>\n",
       "      <th>National Road Type</th>\n",
       "      <th>Christmas Period</th>\n",
       "      <th>Easter Period</th>\n",
       "      <th>Age Group</th>\n",
       "      <th>Day of week</th>\n",
       "      <th>Time of day</th>\n",
       "    </tr>\n",
       "  </thead>\n",
       "  <tbody>\n",
       "    <tr>\n",
       "      <th>0</th>\n",
       "      <td>20212133</td>\n",
       "      <td>Vic</td>\n",
       "      <td>9</td>\n",
       "      <td>2021</td>\n",
       "      <td>Sunday</td>\n",
       "      <td>0:30</td>\n",
       "      <td>Single</td>\n",
       "      <td>NaN</td>\n",
       "      <td>NaN</td>\n",
       "      <td>NaN</td>\n",
       "      <td>...</td>\n",
       "      <td>38</td>\n",
       "      <td>Inner Regional Australia</td>\n",
       "      <td>Melbourne - Outer East</td>\n",
       "      <td>Yarra Ranges (S)</td>\n",
       "      <td>Arterial Road</td>\n",
       "      <td>No</td>\n",
       "      <td>No</td>\n",
       "      <td>26_to_39</td>\n",
       "      <td>Weekend</td>\n",
       "      <td>Night</td>\n",
       "    </tr>\n",
       "    <tr>\n",
       "      <th>1</th>\n",
       "      <td>20214022</td>\n",
       "      <td>SA</td>\n",
       "      <td>9</td>\n",
       "      <td>2021</td>\n",
       "      <td>Saturday</td>\n",
       "      <td>23:31</td>\n",
       "      <td>Multiple</td>\n",
       "      <td>No</td>\n",
       "      <td>No</td>\n",
       "      <td>No</td>\n",
       "      <td>...</td>\n",
       "      <td>28</td>\n",
       "      <td>Major Cities of Australia</td>\n",
       "      <td>Adelaide - North</td>\n",
       "      <td>Playford (C)</td>\n",
       "      <td>NaN</td>\n",
       "      <td>No</td>\n",
       "      <td>No</td>\n",
       "      <td>26_to_39</td>\n",
       "      <td>Weekend</td>\n",
       "      <td>Night</td>\n",
       "    </tr>\n",
       "    <tr>\n",
       "      <th>2</th>\n",
       "      <td>20212096</td>\n",
       "      <td>Vic</td>\n",
       "      <td>9</td>\n",
       "      <td>2021</td>\n",
       "      <td>Saturday</td>\n",
       "      <td>23:00</td>\n",
       "      <td>Single</td>\n",
       "      <td>NaN</td>\n",
       "      <td>NaN</td>\n",
       "      <td>NaN</td>\n",
       "      <td>...</td>\n",
       "      <td>19</td>\n",
       "      <td>Inner Regional Australia</td>\n",
       "      <td>Hume</td>\n",
       "      <td>Wangaratta (RC)</td>\n",
       "      <td>Access road</td>\n",
       "      <td>No</td>\n",
       "      <td>No</td>\n",
       "      <td>17_to_25</td>\n",
       "      <td>Weekend</td>\n",
       "      <td>Night</td>\n",
       "    </tr>\n",
       "    <tr>\n",
       "      <th>3</th>\n",
       "      <td>20212145</td>\n",
       "      <td>Vic</td>\n",
       "      <td>9</td>\n",
       "      <td>2021</td>\n",
       "      <td>Saturday</td>\n",
       "      <td>22:25</td>\n",
       "      <td>Single</td>\n",
       "      <td>NaN</td>\n",
       "      <td>NaN</td>\n",
       "      <td>NaN</td>\n",
       "      <td>...</td>\n",
       "      <td>23</td>\n",
       "      <td>Outer Regional Australia</td>\n",
       "      <td>Hume</td>\n",
       "      <td>Wangaratta (RC)</td>\n",
       "      <td>Arterial Road</td>\n",
       "      <td>No</td>\n",
       "      <td>No</td>\n",
       "      <td>17_to_25</td>\n",
       "      <td>Weekend</td>\n",
       "      <td>Night</td>\n",
       "    </tr>\n",
       "    <tr>\n",
       "      <th>4</th>\n",
       "      <td>20212075</td>\n",
       "      <td>Vic</td>\n",
       "      <td>9</td>\n",
       "      <td>2021</td>\n",
       "      <td>Saturday</td>\n",
       "      <td>5:15</td>\n",
       "      <td>Single</td>\n",
       "      <td>NaN</td>\n",
       "      <td>NaN</td>\n",
       "      <td>NaN</td>\n",
       "      <td>...</td>\n",
       "      <td>46</td>\n",
       "      <td>Major Cities of Australia</td>\n",
       "      <td>Melbourne - South East</td>\n",
       "      <td>Casey (C)</td>\n",
       "      <td>Local Road</td>\n",
       "      <td>No</td>\n",
       "      <td>No</td>\n",
       "      <td>40_to_64</td>\n",
       "      <td>Weekend</td>\n",
       "      <td>Night</td>\n",
       "    </tr>\n",
       "  </tbody>\n",
       "</table>\n",
       "<p>5 rows × 23 columns</p>\n",
       "</div>"
      ],
      "text/plain": [
       "   Crash ID State  Month  Year   Dayweek   Time Crash Type Bus Involvement  \\\n",
       "0  20212133   Vic      9  2021    Sunday   0:30     Single             NaN   \n",
       "1  20214022    SA      9  2021  Saturday  23:31   Multiple              No   \n",
       "2  20212096   Vic      9  2021  Saturday  23:00     Single             NaN   \n",
       "3  20212145   Vic      9  2021  Saturday  22:25     Single             NaN   \n",
       "4  20212075   Vic      9  2021  Saturday   5:15     Single             NaN   \n",
       "\n",
       "  Heavy Rigid Truck Involvement Articulated Truck Involvement  ... Age  \\\n",
       "0                           NaN                           NaN  ...  38   \n",
       "1                            No                            No  ...  28   \n",
       "2                           NaN                           NaN  ...  19   \n",
       "3                           NaN                           NaN  ...  23   \n",
       "4                           NaN                           NaN  ...  46   \n",
       "\n",
       "   National Remoteness Areas           SA4 Name 2016  National LGA Name 2017  \\\n",
       "0   Inner Regional Australia  Melbourne - Outer East        Yarra Ranges (S)   \n",
       "1  Major Cities of Australia        Adelaide - North            Playford (C)   \n",
       "2   Inner Regional Australia                    Hume         Wangaratta (RC)   \n",
       "3   Outer Regional Australia                    Hume         Wangaratta (RC)   \n",
       "4  Major Cities of Australia  Melbourne - South East               Casey (C)   \n",
       "\n",
       "  National Road Type Christmas Period Easter Period Age Group Day of week  \\\n",
       "0      Arterial Road               No            No  26_to_39     Weekend   \n",
       "1                NaN               No            No  26_to_39     Weekend   \n",
       "2        Access road               No            No  17_to_25     Weekend   \n",
       "3      Arterial Road               No            No  17_to_25     Weekend   \n",
       "4         Local Road               No            No  40_to_64     Weekend   \n",
       "\n",
       "  Time of day  \n",
       "0       Night  \n",
       "1       Night  \n",
       "2       Night  \n",
       "3       Night  \n",
       "4       Night  \n",
       "\n",
       "[5 rows x 23 columns]"
      ]
     },
     "execution_count": 4,
     "metadata": {},
     "output_type": "execute_result"
    }
   ],
   "source": [
    "dataset.head(5)"
   ]
  },
  {
   "cell_type": "code",
   "execution_count": 10,
   "id": "5b6fa8b3",
   "metadata": {},
   "outputs": [
    {
     "name": "stdout",
     "output_type": "stream",
     "text": [
      "<class 'pandas.core.frame.DataFrame'>\n",
      "RangeIndex: 52843 entries, 0 to 52842\n",
      "Data columns (total 23 columns):\n",
      " #   Column                         Non-Null Count  Dtype \n",
      "---  ------                         --------------  ----- \n",
      " 0   Crash ID                       52843 non-null  int64 \n",
      " 1   State                          52843 non-null  object\n",
      " 2   Month                          52843 non-null  int64 \n",
      " 3   Year                           52843 non-null  int64 \n",
      " 4   Dayweek                        52843 non-null  object\n",
      " 5   Time                           52803 non-null  object\n",
      " 6   Crash Type                     52843 non-null  object\n",
      " 7   Bus Involvement                52821 non-null  object\n",
      " 8   Heavy Rigid Truck Involvement  32328 non-null  object\n",
      " 9   Articulated Truck Involvement  52821 non-null  object\n",
      " 10  Speed Limit                    52141 non-null  object\n",
      " 11  Road User                      52843 non-null  object\n",
      " 12  Gender                         52816 non-null  object\n",
      " 13  Age                            52843 non-null  int64 \n",
      " 14  National Remoteness Areas      6878 non-null   object\n",
      " 15  SA4 Name 2016                  6892 non-null   object\n",
      " 16  National LGA Name 2017         6893 non-null   object\n",
      " 17  National Road Type             6877 non-null   object\n",
      " 18  Christmas Period               52843 non-null  object\n",
      " 19  Easter Period                  52843 non-null  object\n",
      " 20  Age Group                      52753 non-null  object\n",
      " 21  Day of week                    52843 non-null  object\n",
      " 22  Time of day                    52843 non-null  object\n",
      "dtypes: int64(4), object(19)\n",
      "memory usage: 9.3+ MB\n"
     ]
    }
   ],
   "source": [
    "dataset.info()"
   ]
  },
  {
   "cell_type": "code",
   "execution_count": 11,
   "id": "f4624f13",
   "metadata": {},
   "outputs": [
    {
     "data": {
      "text/plain": [
       "(52843, 23)"
      ]
     },
     "execution_count": 11,
     "metadata": {},
     "output_type": "execute_result"
    }
   ],
   "source": [
    "dataset.shape"
   ]
  },
  {
   "cell_type": "code",
   "execution_count": 5,
   "id": "55dc7583",
   "metadata": {},
   "outputs": [
    {
     "data": {
      "text/plain": [
       "Crash ID                             0\n",
       "State                                0\n",
       "Month                                0\n",
       "Year                                 0\n",
       "Dayweek                              0\n",
       "Time                                40\n",
       "Crash Type                           0\n",
       "Bus Involvement                     22\n",
       "Heavy Rigid Truck Involvement    20515\n",
       "Articulated Truck Involvement       22\n",
       "Speed Limit                        702\n",
       "Road User                            0\n",
       "Gender                              27\n",
       "Age                                  0\n",
       "National Remoteness Areas        45965\n",
       "SA4 Name 2016                    45951\n",
       "National LGA Name 2017           45950\n",
       "National Road Type               45966\n",
       "Christmas Period                     0\n",
       "Easter Period                        0\n",
       "Age Group                           90\n",
       "Day of week                          0\n",
       "Time of day                          0\n",
       "dtype: int64"
      ]
     },
     "execution_count": 5,
     "metadata": {},
     "output_type": "execute_result"
    }
   ],
   "source": [
    "dataset.isnull().sum()"
   ]
  },
  {
   "cell_type": "code",
   "execution_count": 6,
   "id": "0e390f44",
   "metadata": {},
   "outputs": [
    {
     "data": {
      "text/plain": [
       "Crash ID                          0.000000\n",
       "State                             0.000000\n",
       "Month                             0.000000\n",
       "Year                              0.000000\n",
       "Dayweek                           0.000000\n",
       "Time                              0.075696\n",
       "Crash Type                        0.000000\n",
       "Bus Involvement                   0.041633\n",
       "Heavy Rigid Truck Involvement    38.822550\n",
       "Articulated Truck Involvement     0.041633\n",
       "Speed Limit                       1.328464\n",
       "Road User                         0.000000\n",
       "Gender                            0.051095\n",
       "Age                               0.000000\n",
       "National Remoteness Areas        86.984085\n",
       "SA4 Name 2016                    86.957591\n",
       "National LGA Name 2017           86.955699\n",
       "National Road Type               86.985977\n",
       "Christmas Period                  0.000000\n",
       "Easter Period                     0.000000\n",
       "Age Group                         0.170316\n",
       "Day of week                       0.000000\n",
       "Time of day                       0.000000\n",
       "dtype: float64"
      ]
     },
     "execution_count": 6,
     "metadata": {},
     "output_type": "execute_result"
    }
   ],
   "source": [
    "#how much percent of each column is missing value?\n",
    "dataset.isnull().sum() * 100 / len(dataset)"
   ]
  },
  {
   "cell_type": "code",
   "execution_count": null,
   "id": "d8a2dbda",
   "metadata": {},
   "outputs": [],
   "source": [
    "#As you can see we have missing values in some columns\n",
    "#First we will fill missing values in columns where filling it with the majority of its class is an appropriate approach\n",
    "#For example the majority class of the column'Bus Involvement' is No so we fill those 22 missing values with No"
   ]
  },
  {
   "cell_type": "code",
   "execution_count": 5,
   "id": "90326415",
   "metadata": {},
   "outputs": [
    {
     "data": {
      "text/plain": [
       "No     51835\n",
       "Yes      986\n",
       "Name: Bus Involvement, dtype: int64"
      ]
     },
     "execution_count": 5,
     "metadata": {},
     "output_type": "execute_result"
    }
   ],
   "source": [
    "dataset['Bus Involvement'].value_counts()"
   ]
  },
  {
   "cell_type": "code",
   "execution_count": 4,
   "id": "ffdbe187",
   "metadata": {
    "scrolled": true
   },
   "outputs": [],
   "source": [
    "dataset['Bus Involvement'] = dataset['Bus Involvement'].fillna('No')\n",
    "dataset['Heavy Rigid Truck Involvement'] = dataset['Heavy Rigid Truck Involvement'].fillna('No')\n",
    "dataset['Articulated Truck Involvement'] = dataset['Articulated Truck Involvement'].fillna('No')\n",
    "dataset['Gender'] = dataset['Gender'].fillna('Male')\n",
    "dataset['Age Group'] = dataset['Age Group'].fillna('17_to_25')\n",
    "# The speed limit column has two rows namely  'Unspecified' and '<40' so we replace these values with value 35\n",
    "dataset.loc[dataset['Speed Limit']== '<40', 'Speed Limit'] = 35\n",
    "dataset.loc[dataset['Speed Limit']== 'Unspecified' , 'Speed Limit'] = 35\n",
    "#some entries of speed limit are string. we convert them to int and then fill null values with its mean\n",
    "dataset['Speed Limit'] = dataset['Speed Limit'].astype('float')\n",
    "dataset['Speed Limit'] = dataset['Speed Limit'].replace(np.NaN,dataset['Speed Limit'].mean())"
   ]
  },
  {
   "cell_type": "code",
   "execution_count": 8,
   "id": "6ec80abb",
   "metadata": {},
   "outputs": [
    {
     "data": {
      "text/plain": [
       "Crash ID                             0\n",
       "State                                0\n",
       "Month                                0\n",
       "Year                                 0\n",
       "Dayweek                              0\n",
       "Time                                40\n",
       "Crash Type                           0\n",
       "Bus Involvement                      0\n",
       "Heavy Rigid Truck Involvement        0\n",
       "Articulated Truck Involvement        0\n",
       "Speed Limit                          0\n",
       "Road User                            0\n",
       "Gender                               0\n",
       "Age                                  0\n",
       "National Remoteness Areas        45965\n",
       "SA4 Name 2016                    45951\n",
       "National LGA Name 2017           45950\n",
       "National Road Type               45966\n",
       "Christmas Period                     0\n",
       "Easter Period                        0\n",
       "Age Group                            0\n",
       "Day of week                          0\n",
       "Time of day                          0\n",
       "dtype: int64"
      ]
     },
     "execution_count": 8,
     "metadata": {},
     "output_type": "execute_result"
    }
   ],
   "source": [
    "#The result of above code\n",
    "dataset.isnull().sum()"
   ]
  },
  {
   "cell_type": "code",
   "execution_count": 6,
   "id": "ec49c5b1",
   "metadata": {},
   "outputs": [],
   "source": [
    "# There are too many missing values in the following columns:\n",
    "#'National Remoteness Areas, 'SA4 Name 2016', 'National LGA Name 2017', 'National Road Type' \n",
    "    \n",
    "#we will fill these missing values with the word 'unavailable'\n",
    "dataset['National Remoteness Areas'] = dataset['National Remoteness Areas'].fillna('unknown')\n",
    "dataset['SA4 Name 2016'] = dataset['SA4 Name 2016'].fillna('unknown')\n",
    "dataset['National LGA Name 2017'] = dataset['National LGA Name 2017'].fillna('unknown')\n",
    "dataset['National Road Type'] = dataset['National Road Type'].fillna('unknown')\n",
    "dataset['Time'] = dataset['Time'].fillna('15:00')"
   ]
  },
  {
   "cell_type": "code",
   "execution_count": 23,
   "id": "ed4a22ba",
   "metadata": {},
   "outputs": [
    {
     "data": {
      "text/plain": [
       "Crash ID                         0\n",
       "State                            0\n",
       "Month                            0\n",
       "Year                             0\n",
       "Dayweek                          0\n",
       "Time                             0\n",
       "Crash Type                       0\n",
       "Bus Involvement                  0\n",
       "Heavy Rigid Truck Involvement    0\n",
       "Articulated Truck Involvement    0\n",
       "Speed Limit                      0\n",
       "Road User                        0\n",
       "Gender                           0\n",
       "Age                              0\n",
       "National Remoteness Areas        0\n",
       "SA4 Name 2016                    0\n",
       "National LGA Name 2017           0\n",
       "National Road Type               0\n",
       "Christmas Period                 0\n",
       "Easter Period                    0\n",
       "Age Group                        0\n",
       "Day of week                      0\n",
       "Time of day                      0\n",
       "dtype: int64"
      ]
     },
     "execution_count": 23,
     "metadata": {},
     "output_type": "execute_result"
    }
   ],
   "source": [
    "#The result of above code\n",
    "dataset.isnull().sum()"
   ]
  },
  {
   "cell_type": "code",
   "execution_count": 11,
   "id": "3764d44a",
   "metadata": {},
   "outputs": [
    {
     "data": {
      "text/plain": [
       "<AxesSubplot:xlabel='Crash Type', ylabel='count'>"
      ]
     },
     "execution_count": 11,
     "metadata": {},
     "output_type": "execute_result"
    },
    {
     "data": {
      "image/png": "[encoded data removed]",
      "text/plain": [
       "<Figure size 432x288 with 1 Axes>"
      ]
     },
     "metadata": {
      "needs_background": "light"
     },
     "output_type": "display_data"
    }
   ],
   "source": [
    "sns.countplot(data=dataset, x='Crash Type')"
   ]
  },
  {
   "cell_type": "code",
   "execution_count": 20,
   "id": "adaada09",
   "metadata": {},
   "outputs": [
    {
     "ename": "AttributeError",
     "evalue": "'Figure' object has no attribute 'ylabel'",
     "output_type": "error",
     "traceback": [
      "\u001b[0;31m---------------------------------------------------------------------------\u001b[0m",
      "\u001b[0;31mAttributeError\u001b[0m                            Traceback (most recent call last)",
      "\u001b[0;32m<ipython-input-20-3f0e7f870765>\u001b[0m in \u001b[0;36m<module>\u001b[0;34m\u001b[0m\n\u001b[1;32m      1\u001b[0m \u001b[0mfig\u001b[0m\u001b[0;34m,\u001b[0m \u001b[0max\u001b[0m \u001b[0;34m=\u001b[0m \u001b[0mplt\u001b[0m\u001b[0;34m.\u001b[0m\u001b[0msubplots\u001b[0m\u001b[0;34m(\u001b[0m\u001b[0mfigsize\u001b[0m\u001b[0;34m=\u001b[0m\u001b[0;34m(\u001b[0m\u001b[0;36m10\u001b[0m\u001b[0;34m,\u001b[0m\u001b[0;36m5\u001b[0m\u001b[0;34m)\u001b[0m\u001b[0;34m)\u001b[0m\u001b[0;34m\u001b[0m\u001b[0;34m\u001b[0m\u001b[0m\n\u001b[1;32m      2\u001b[0m \u001b[0mdataset\u001b[0m\u001b[0;34m.\u001b[0m\u001b[0mgroupby\u001b[0m\u001b[0;34m(\u001b[0m\u001b[0;34m'Year'\u001b[0m\u001b[0;34m)\u001b[0m\u001b[0;34m[\u001b[0m\u001b[0;34m'Crash ID'\u001b[0m\u001b[0;34m]\u001b[0m\u001b[0;34m.\u001b[0m\u001b[0mcount\u001b[0m\u001b[0;34m(\u001b[0m\u001b[0;34m)\u001b[0m\u001b[0;34m.\u001b[0m\u001b[0mplot\u001b[0m\u001b[0;34m.\u001b[0m\u001b[0mbar\u001b[0m\u001b[0;34m(\u001b[0m\u001b[0;34m)\u001b[0m\u001b[0;34m\u001b[0m\u001b[0;34m\u001b[0m\u001b[0m\n\u001b[0;32m----> 3\u001b[0;31m \u001b[0mfig\u001b[0m\u001b[0;34m.\u001b[0m\u001b[0mylabel\u001b[0m\u001b[0;34m(\u001b[0m\u001b[0;34m'Number of Death'\u001b[0m\u001b[0;34m)\u001b[0m\u001b[0;34m\u001b[0m\u001b[0;34m\u001b[0m\u001b[0m\n\u001b[0m\u001b[1;32m      4\u001b[0m \u001b[0mplt\u001b[0m\u001b[0;34m.\u001b[0m\u001b[0mshow\u001b[0m\u001b[0;34m(\u001b[0m\u001b[0;34m)\u001b[0m\u001b[0;34m\u001b[0m\u001b[0;34m\u001b[0m\u001b[0m\n",
      "\u001b[0;31mAttributeError\u001b[0m: 'Figure' object has no attribute 'ylabel'"
     ]
    },
    {
     "data": {
      "image/png": "[encoded data removed]",
      "text/plain": [
       "<Figure size 720x360 with 1 Axes>"
      ]
     },
     "metadata": {
      "needs_background": "light"
     },
     "output_type": "display_data"
    }
   ],
   "source": [
    "fig, ax = plt.subplots(figsize=(10,5))\n",
    "dataset.groupby('Year')['Crash ID'].count().plot.bar()\n",
    "plt.ylabel('Number of Death')\n",
    "plt.show()"
   ]
  },
  {
   "cell_type": "code",
   "execution_count": 12,
   "id": "8b514e87",
   "metadata": {},
   "outputs": [
    {
     "data": {
      "image/png": "[encoded data removed]",
      "text/plain": [
       "<Figure size 1440x720 with 6 Axes>"
      ]
     },
     "metadata": {
      "needs_background": "light"
     },
     "output_type": "display_data"
    }
   ],
   "source": [
    "#age_groups = df['Age Group'].value_counts().sort_index().index.tolist()\n",
    "#dataset.groupby(dataset['Age Group'])['Crash ID'].count().plot.bar()\n",
    "#plt.show()\n",
    "age_groups = dataset['Age Group'].value_counts().sort_index().index.tolist()\n",
    "i=0\n",
    "fig, ax = plt.subplots(figsize=(20,10))\n",
    "fig.suptitle('Share of Death for Each Age Group')\n",
    "for group in age_groups:\n",
    "    i=i+1\n",
    "    ax = plt.subplot(320+i)\n",
    "    plots = dataset[dataset['Age Group'] == group].groupby('Year')['Crash ID'].count() / dataset.groupby('Year')['Crash ID'].count()\n",
    "    plt.title(group)\n",
    "    plt.bar(plots.index, plots.values)\n",
    "plt.show()    \n"
   ]
  },
  {
   "cell_type": "code",
   "execution_count": null,
   "id": "a1ad1cda",
   "metadata": {},
   "outputs": [],
   "source": [
    "#if you look at above figures we"
   ]
  },
  {
   "cell_type": "code",
   "execution_count": 20,
   "id": "6f99cd29",
   "metadata": {
    "scrolled": false
   },
   "outputs": [
    {
     "data": {
      "image/png": "[encoded data removed]",
      "text/plain": [
       "<Figure size 1152x1152 with 4 Axes>"
      ]
     },
     "metadata": {
      "needs_background": "light"
     },
     "output_type": "display_data"
    }
   ],
   "source": [
    "fig, ax = plt.subplots(figsize=(16,16))\n",
    "fig.suptitle('Share of Death Shown in Age Groups, Gender, Year')\n",
    "ax= plt.subplot(221)\n",
    "male_plot = dataset[(dataset['Gender']== 'Male') & (dataset['Age Group'] == '17_to_25')].groupby('Year')['Crash ID'].count() / dataset.groupby('Year')['Crash ID'].count()\n",
    "male_plot.plot.bar( align='edge', color='b', title='Males 17 to 25')\n",
    "ax = plt.subplot(222)\n",
    "female_plot = dataset[(dataset['Gender']== 'Female') & (dataset['Age Group'] == '17_to_25')].groupby('Year')['Crash ID'].count() / dataset.groupby('Year')['Crash ID'].count()\n",
    "female_plot.plot.bar( align='edge', color='r', title='Females 17 to 25')\n",
    "ax= plt.subplot(223)\n",
    "male_plot = dataset[(dataset['Gender']== 'Male') & (dataset['Age Group'] == '26_to_39')].groupby('Year')['Crash ID'].count() / dataset.groupby('Year')['Crash ID'].count()\n",
    "male_plot.plot.bar( align='edge', color='b', title='Males 26 to 39')\n",
    "ax = plt.subplot(224)\n",
    "female_plot = dataset[(dataset['Gender']== 'Female') & (dataset['Age Group'] == '26_to_39')].groupby('Year')['Crash ID'].count() / dataset.groupby('Year')['Crash ID'].count()\n",
    "female_plot.plot.bar( align='edge', color='r', title='Females 26 to 39')\n",
    "plt.show()"
   ]
  },
  {
   "cell_type": "code",
   "execution_count": 26,
   "id": "1d794763",
   "metadata": {},
   "outputs": [
    {
     "data": {
      "image/png": "[encoded data removed]",
      "text/plain": [
       "<Figure size 1152x576 with 1 Axes>"
      ]
     },
     "metadata": {
      "needs_background": "light"
     },
     "output_type": "display_data"
    }
   ],
   "source": [
    "time_groups = dataset['Time of day'].value_counts().sort_index().index.tolist()\n",
    "fig, ax = plt.subplots(figsize=(16,8))\n",
    "i=0\n",
    "for group in time_groups:\n",
    "    i = i+1\n",
    "    for_groups = dataset[dataset['Time of day']==group].groupby('Year')['Crash ID'].count() /  dataset.groupby('Year')['Crash ID'].count()\n",
    "    plt.plot(for_groups.index, for_groups.values, label=group)\n",
    "    plt.title('Day / Night share of deaths')\n",
    "    plt.legend()\n",
    "    \n",
    "plt.show()"
   ]
  },
  {
   "cell_type": "code",
   "execution_count": 39,
   "id": "ac30af9f",
   "metadata": {},
   "outputs": [
    {
     "name": "stdout",
     "output_type": "stream",
     "text": [
      "0        <class 'str'>\n",
      "1        <class 'str'>\n",
      "2        <class 'str'>\n",
      "3        <class 'str'>\n",
      "4        <class 'str'>\n",
      "             ...      \n",
      "52838    <class 'str'>\n",
      "52839    <class 'str'>\n",
      "52840    <class 'str'>\n",
      "52841    <class 'str'>\n",
      "52842    <class 'str'>\n",
      "Name: Time, Length: 52843, dtype: object\n"
     ]
    }
   ],
   "source": [
    "print(dataset['Time'].apply(type))"
   ]
  },
  {
   "cell_type": "code",
   "execution_count": 101,
   "id": "5c1fc628",
   "metadata": {},
   "outputs": [
    {
     "name": "stdout",
     "output_type": "stream",
     "text": [
      "Once deleted, variables cannot be recovered. Proceed (y/[n])? y\n"
     ]
    }
   ],
   "source": [
    "%reset"
   ]
  },
  {
   "cell_type": "code",
   "execution_count": null,
   "id": "07e0efd8",
   "metadata": {},
   "outputs": [],
   "source": [
    "#import numpy as np\n",
    "#dataset['Bus Involvement'] = dataset['Bus Involvement'].apply(lambda x: x.fillna(b)[0])"
   ]
  }
 ],
 "metadata": {
  "kernelspec": {
   "display_name": "Python 3",
   "language": "python",
   "name": "python3"
  },
  "language_info": {
   "codemirror_mode": {
    "name": "ipython",
    "version": 3
   },
   "file_extension": ".py",
   "mimetype": "text/x-python",
   "name": "python",
   "nbconvert_exporter": "python",
   "pygments_lexer": "ipython3",
   "version": "3.8.8"
  }
 },
 "nbformat": 4,
 "nbformat_minor": 5
}
